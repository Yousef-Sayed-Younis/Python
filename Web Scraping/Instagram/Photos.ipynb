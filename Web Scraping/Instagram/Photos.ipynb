{
 "cells": [
  {
   "cell_type": "code",
   "execution_count": 3,
   "metadata": {},
   "outputs": [],
   "source": [
    "from selenium import webdriver\n",
    "from selenium.webdriver.common.keys import Keys\n",
    "from selenium.webdriver.support import expected_conditions as EC\n",
    "from selenium.webdriver.common.by import By\n",
    "from selenium.webdriver.support.wait import WebDriverWait"
   ]
  },
  {
   "cell_type": "code",
   "execution_count": 4,
   "metadata": {},
   "outputs": [],
   "source": [
    "import os\n",
    "import wget"
   ]
  },
  {
   "cell_type": "code",
   "execution_count": 5,
   "metadata": {},
   "outputs": [],
   "source": [
    "driver = webdriver.Chrome('C:/Program Files (x86)/ChromeDriver/chromedriver.exe')\n",
    "driver.get('https://www.instagram.com/')"
   ]
  },
  {
   "cell_type": "code",
   "execution_count": 6,
   "metadata": {},
   "outputs": [],
   "source": [
    "username = WebDriverWait(driver, 10).until(EC.element_to_be_clickable((By.CSS_SELECTOR, \"input[name='username']\")))\n",
    "password = WebDriverWait(driver, 10).until(EC.element_to_be_clickable((By.CSS_SELECTOR, \"input[name='password']\")))\n",
    "\n",
    "username.clear()\n",
    "password.clear()\n",
    "\n",
    "username.send_keys(\"yousef_s.younis\")\n",
    "password.send_keys(\"BLACKtv456\")"
   ]
  },
  {
   "cell_type": "code",
   "execution_count": 7,
   "metadata": {},
   "outputs": [],
   "source": [
    "log_in = WebDriverWait(driver, 10).until(EC.element_to_be_clickable((By.CSS_SELECTOR, \"button[type='submit']\"))).click()"
   ]
  },
  {
   "cell_type": "code",
   "execution_count": 8,
   "metadata": {},
   "outputs": [],
   "source": [
    "not_now = WebDriverWait(driver, 10).until(EC.element_to_be_clickable((By.XPATH, \"//button[contains(text(), 'Not Now')]\"))).click()\n",
    "not_now2 = WebDriverWait(driver, 10).until(EC.element_to_be_clickable((By.XPATH, \"//button[contains(text(), 'Not Now')]\"))).click()"
   ]
  },
  {
   "cell_type": "code",
   "execution_count": 9,
   "metadata": {},
   "outputs": [],
   "source": [
    "search = WebDriverWait(driver, 10).until(EC.element_to_be_clickable((By.XPATH, \"//input[@placeholder='Search']\")))\n",
    "search.clear()\n",
    "\n",
    "key_word = \"#cat\"\n",
    "search.send_keys(key_word)"
   ]
  },
  {
   "cell_type": "code",
   "execution_count": 10,
   "metadata": {},
   "outputs": [],
   "source": [
    "search.send_keys(Keys.ENTER)\n",
    "search.send_keys(Keys.ENTER)"
   ]
  },
  {
   "cell_type": "code",
   "execution_count": 11,
   "metadata": {},
   "outputs": [
    {
     "data": {
      "text/plain": [
       "['https://instagram.fcai20-2.fna.fbcdn.net/v/t51.2885-15/e35/c0.180.1440.1440a/s150x150/162875511_905481183328366_4311281414126715233_n.jpg?tp=1&_nc_ht=instagram.fcai20-2.fna.fbcdn.net&_nc_cat=1&_nc_ohc=yC2AibgEMHcAX9iO0Ao&ccb=7-4&oh=b933ac21a43d97484aed9617b2334f52&oe=607ED700&_nc_sid=4efc9f',\n",
       " 'https://instagram.fcai20-2.fna.fbcdn.net/v/t51.2885-15/sh0.08/e35/c0.180.1440.1440a/s640x640/162452954_1605073216548048_4682198932889110268_n.jpg?tp=1&_nc_ht=instagram.fcai20-2.fna.fbcdn.net&_nc_cat=100&_nc_ohc=dBY2k22JH9YAX_x66qD&ccb=7-4&oh=faa837fc98bbf31813f7f5c52d053303&oe=60804991&_nc_sid=4efc9f',\n",
       " 'https://instagram.fcai19-1.fna.fbcdn.net/v/t51.2885-15/sh0.08/e35/s640x640/162888258_253512856436203_8848654832187417347_n.jpg?tp=1&_nc_ht=instagram.fcai19-1.fna.fbcdn.net&_nc_cat=107&_nc_ohc=XZoXaB_48cAAX8OOACa&ccb=7-4&oh=f231fa170d57be9d5f0171497c6e4643&oe=60819AED&_nc_sid=4efc9f',\n",
       " 'https://instagram.fcai20-2.fna.fbcdn.net/v/t51.2885-15/sh0.08/e35/c2.0.1436.1436a/s640x640/162363941_1117930715338060_1702173109160737221_n.jpg?tp=1&_nc_ht=instagram.fcai20-2.fna.fbcdn.net&_nc_cat=104&_nc_ohc=trRs7no3jXgAX88nKvs&ccb=7-4&oh=1fa2f6c51ad5baa53914cfa45f2a8df2&oe=608052F9&_nc_sid=4efc9f',\n",
       " 'https://instagram.fcai19-1.fna.fbcdn.net/v/t51.2885-15/sh0.08/e35/s640x640/162765941_1433987906936327_3618851870169891904_n.jpg?tp=1&_nc_ht=instagram.fcai19-1.fna.fbcdn.net&_nc_cat=111&_nc_ohc=8mb6hT3-60QAX---ugi&ccb=7-4&oh=1258bb6b64c4ab4ad7dbb0c12e86d8ca&oe=60817375&_nc_sid=4efc9f',\n",
       " 'https://instagram.fcai20-2.fna.fbcdn.net/v/t51.2885-15/sh0.08/e35/s640x640/162091430_1123259774768706_2489197371462521946_n.jpg?tp=1&_nc_ht=instagram.fcai20-2.fna.fbcdn.net&_nc_cat=106&_nc_ohc=0f-NzhwkHrEAX8Aw2LU&ccb=7-4&oh=18d930e95e04e9f7d5830805cbd6e23f&oe=607EF809&_nc_sid=4efc9f',\n",
       " 'https://instagram.fcai19-1.fna.fbcdn.net/v/t51.2885-15/sh0.08/e35/s640x640/162173824_745318072652911_5298512005247426925_n.jpg?tp=1&_nc_ht=instagram.fcai19-1.fna.fbcdn.net&_nc_cat=107&_nc_ohc=4bLAeodRmbsAX8nqcAM&ccb=7-4&oh=463520ee879f0dee0b59070c92d1742e&oe=6080366F&_nc_sid=4efc9f',\n",
       " 'https://instagram.fcai20-2.fna.fbcdn.net/v/t51.2885-15/sh0.08/e35/c0.180.1440.1440a/s640x640/162173824_132628998792437_8411821021403527185_n.jpg?tp=1&_nc_ht=instagram.fcai20-2.fna.fbcdn.net&_nc_cat=105&_nc_ohc=cuST8gubvtkAX-Vn0WK&ccb=7-4&oh=cd802b21cc6f34cb2aab9a0034badd73&oe=6082B7DC&_nc_sid=4efc9f',\n",
       " 'https://instagram.fcai20-2.fna.fbcdn.net/v/t51.2885-15/sh0.08/e35/c6.0.1067.1067a/s640x640/162891675_458734138688772_1797607884221184626_n.jpg?tp=1&_nc_ht=instagram.fcai20-2.fna.fbcdn.net&_nc_cat=100&_nc_ohc=8syyYf1U_FEAX9bS_gK&ccb=7-4&oh=230150ce406854c9f8f7fd975e85e768&oe=60800875&_nc_sid=4efc9f',\n",
       " 'https://instagram.fcai19-1.fna.fbcdn.net/v/t51.2885-15/sh0.08/e35/c0.180.1440.1440a/s640x640/162508095_2727283597575886_2142240404458828099_n.jpg?tp=1&_nc_ht=instagram.fcai19-1.fna.fbcdn.net&_nc_cat=110&_nc_ohc=SRvsHsviQfwAX_qswx0&ccb=7-4&oh=32cbc8b275e827c8b4b3035b7f4a93dc&oe=607EFBF0&_nc_sid=4efc9f',\n",
       " 'https://instagram.fcai20-2.fna.fbcdn.net/v/t51.2885-15/sh0.08/e35/s640x640/162666332_745141086366769_3756630681842303834_n.jpg?tp=1&_nc_ht=instagram.fcai20-2.fna.fbcdn.net&_nc_cat=101&_nc_ohc=EmAC_CZfXVoAX8xYLtI&ccb=7-4&oh=387230370ec532be691488807edbcc6e&oe=607EED16&_nc_sid=4efc9f',\n",
       " 'https://instagram.fcai19-1.fna.fbcdn.net/v/t51.2885-15/sh0.08/e35/c0.180.1440.1440a/s640x640/163461408_775182149771480_1090904362354556289_n.jpg?tp=1&_nc_ht=instagram.fcai19-1.fna.fbcdn.net&_nc_cat=108&_nc_ohc=6z2OTG_4cqgAX9r19F8&ccb=7-4&oh=db529912a606d2d7c3cd55dc62b67296&oe=607F5FB0&_nc_sid=4efc9f',\n",
       " 'https://instagram.fcai20-2.fna.fbcdn.net/v/t51.2885-15/sh0.08/e35/s640x640/162680280_112697550894793_5588118363770025589_n.jpg?tp=1&_nc_ht=instagram.fcai20-2.fna.fbcdn.net&_nc_cat=101&_nc_ohc=flB45WNa55cAX_--fDY&ccb=7-4&oh=e6597370dd45f21462f2cfd35fa58672&oe=60595AD3&_nc_sid=4efc9f',\n",
       " 'https://instagram.fcai20-2.fna.fbcdn.net/v/t51.2885-15/e35/162583161_487717922266203_930078158179800271_n.jpg?tp=1&_nc_ht=instagram.fcai20-2.fna.fbcdn.net&_nc_cat=103&_nc_ohc=mbueNaPvZwUAX9_N1Xb&ccb=7-4&oh=a5c67bb5af09d30d18addb2eb57b98d9&oe=6059B6B7&_nc_sid=4efc9f',\n",
       " 'https://instagram.fcai20-2.fna.fbcdn.net/v/t51.2885-15/sh0.08/e35/c98.0.883.883a/s640x640/163307717_1169125383545237_7874803451045742761_n.jpg?tp=1&_nc_ht=instagram.fcai20-2.fna.fbcdn.net&_nc_cat=105&_nc_ohc=H7n61ghrnzAAX-pvQWX&ccb=7-4&oh=95e2542cdf3787930a65cd734d986a3a&oe=607F6334&_nc_sid=4efc9f',\n",
       " 'https://instagram.fcai20-2.fna.fbcdn.net/v/t51.2885-15/sh0.08/e35/c163.0.754.754a/s640x640/161237967_1812897652220969_6602598206284120379_n.jpg?tp=1&_nc_ht=instagram.fcai20-2.fna.fbcdn.net&_nc_cat=105&_nc_ohc=rh1a3Tw2GS4AX8hgPms&ccb=7-4&oh=96f672db7dbab97f88f1288ffe7ac491&oe=60800B48&_nc_sid=4efc9f',\n",
       " 'https://instagram.fcai19-1.fna.fbcdn.net/v/t51.2885-15/sh0.08/e35/s640x640/162359213_457215165429046_2070511294394265164_n.jpg?tp=1&_nc_ht=instagram.fcai19-1.fna.fbcdn.net&_nc_cat=110&_nc_ohc=Sq-8K46Jwl4AX-jjRW_&ccb=7-4&oh=49d2e7ce743aba1aa9bc0c61fa4e4957&oe=607FD384&_nc_sid=4efc9f',\n",
       " 'https://instagram.fcai19-1.fna.fbcdn.net/v/t51.2885-15/sh0.08/e35/c0.180.1440.1440a/s640x640/162891885_751939475525095_4230641595349080109_n.jpg?tp=1&_nc_ht=instagram.fcai19-1.fna.fbcdn.net&_nc_cat=107&_nc_ohc=7l1cyi_H6coAX-NFBkT&ccb=7-4&oh=af104d3e7500bc2edc1b34fe6c2b4f08&oe=607F9640&_nc_sid=4efc9f',\n",
       " 'https://instagram.fcai19-1.fna.fbcdn.net/v/t51.2885-15/e35/c258.0.564.564a/161607708_723248975221006_6949791200448044738_n.jpg?tp=1&_nc_ht=instagram.fcai19-1.fna.fbcdn.net&_nc_cat=110&_nc_ohc=m6iy16ftHskAX9IPN3w&ccb=7-4&oh=0b45f662d1e27cf8519bae190716b790&oe=608011A4&_nc_sid=4efc9f',\n",
       " 'https://instagram.fcai20-2.fna.fbcdn.net/v/t51.2885-15/sh0.08/e35/s640x640/162415789_441063287123018_8454240078737387953_n.jpg?tp=1&_nc_ht=instagram.fcai20-2.fna.fbcdn.net&_nc_cat=102&_nc_ohc=kwJdURKXlJcAX9VyRLR&ccb=7-4&oh=825ba4e93b8e8424482b3f5645564c1b&oe=6080E365&_nc_sid=4efc9f',\n",
       " 'https://instagram.fcai19-1.fna.fbcdn.net/v/t51.2885-15/e35/c0.150.540.540a/162944767_481738509631807_3176390201816638613_n.jpg?tp=1&_nc_ht=instagram.fcai19-1.fna.fbcdn.net&_nc_cat=107&_nc_ohc=ZB4_PxiAevoAX929W7t&ccb=7-4&oh=c01e3952273a24eac76c66a737afb3a5&oe=6059A79E&_nc_sid=4efc9f',\n",
       " 'https://instagram.fcai20-2.fna.fbcdn.net/v/t51.2885-15/sh0.08/e35/s640x640/162541875_231010705374794_979182743987304169_n.jpg?tp=1&_nc_ht=instagram.fcai20-2.fna.fbcdn.net&_nc_cat=102&_nc_ohc=tlX-CZ1Q6U4AX9YhuSx&ccb=7-4&oh=47e1afaaab1013dd8c1ee8bda2b9a165&oe=607EEFAE&_nc_sid=4efc9f',\n",
       " 'https://instagram.fcai20-2.fna.fbcdn.net/v/t51.2885-15/sh0.08/e35/s640x640/163281357_166269905324562_5196561667231252846_n.jpg?tp=1&_nc_ht=instagram.fcai20-2.fna.fbcdn.net&_nc_cat=106&_nc_ohc=kQJq4r1g5SoAX-lqrB_&ccb=7-4&oh=073f5331d5ea1f68a8f171bde8a1e720&oe=607FCAB5&_nc_sid=4efc9f',\n",
       " 'https://instagram.fcai20-2.fna.fbcdn.net/v/t51.2885-15/sh0.08/e35/s640x640/162214363_3813014565449748_5336126013949739377_n.jpg?tp=1&_nc_ht=instagram.fcai20-2.fna.fbcdn.net&_nc_cat=100&_nc_ohc=L0x8KLoceasAX91mjxI&ccb=7-4&oh=556dd5a8b5f73c85efe3d0d75718d82a&oe=60809505&_nc_sid=4efc9f',\n",
       " 'https://instagram.fcai20-2.fna.fbcdn.net/v/t51.2885-15/sh0.08/e35/c16.0.1047.1047a/s640x640/162957229_1268327643561726_1252400220693447198_n.jpg?tp=1&_nc_ht=instagram.fcai20-2.fna.fbcdn.net&_nc_cat=106&_nc_ohc=tWkrC1eeKf8AX95fOn_&ccb=7-4&oh=fd13226bd74e0a5a628d5d5e92e76dbe&oe=60802666&_nc_sid=4efc9f',\n",
       " 'https://instagram.fcai20-2.fna.fbcdn.net/v/t51.2885-15/sh0.08/e35/s640x640/162694957_112602350910075_1471519492106780362_n.jpg?tp=1&_nc_ht=instagram.fcai20-2.fna.fbcdn.net&_nc_cat=103&_nc_ohc=McE99xo5U9sAX_NRsSN&ccb=7-4&oh=b6ae4a5b8eded5f0d1e84ab249ca6f5f&oe=60814F69&_nc_sid=4efc9f',\n",
       " 'https://instagram.fcai20-2.fna.fbcdn.net/v/t51.2885-15/sh0.08/e35/c1.0.748.748a/s640x640/162242365_794384601461784_3585199274160425740_n.jpg?tp=1&_nc_ht=instagram.fcai20-2.fna.fbcdn.net&_nc_cat=100&_nc_ohc=GPiD9NahsbIAX_vv-XB&ccb=7-4&oh=117547d6ef70a39985f232c3652b2ce9&oe=607ED9F0&_nc_sid=4efc9f',\n",
       " 'https://instagram.fcai20-2.fna.fbcdn.net/v/t51.2885-15/sh0.08/e35/s640x640/162033356_168711101749500_3090910986826261933_n.jpg?tp=1&_nc_ht=instagram.fcai20-2.fna.fbcdn.net&_nc_cat=100&_nc_ohc=Z4C23Vr8I2MAX9R4qid&ccb=7-4&oh=4242e5beca4661d219ed859235d6f998&oe=607F316D&_nc_sid=4efc9f',\n",
       " 'https://instagram.fcai20-2.fna.fbcdn.net/v/t51.2885-15/sh0.08/e35/s640x640/163535509_287653256099357_9090522110840311406_n.jpg?tp=1&_nc_ht=instagram.fcai20-2.fna.fbcdn.net&_nc_cat=105&_nc_ohc=yc7kDve0JlgAX8sbFzu&ccb=7-4&oh=c30ce229e2c0c2e0467ebc2936217c49&oe=607FD181&_nc_sid=4efc9f',\n",
       " 'https://instagram.fcai19-1.fna.fbcdn.net/v/t51.2885-15/sh0.08/e35/s640x640/162214362_285845232944299_5156659320383801266_n.jpg?tp=1&_nc_ht=instagram.fcai19-1.fna.fbcdn.net&_nc_cat=107&_nc_ohc=ec16yXCitekAX8n2MGI&ccb=7-4&oh=c0bd2d8bd469248708cfe6514b110901&oe=607F91DC&_nc_sid=4efc9f',\n",
       " 'https://instagram.fcai20-2.fna.fbcdn.net/v/t51.2885-15/e35/c157.0.405.405a/162478490_926362384794412_2601295602958992003_n.jpg?tp=1&_nc_ht=instagram.fcai20-2.fna.fbcdn.net&_nc_cat=104&_nc_ohc=dgQaVBzEIJwAX8jRMq2&ccb=7-4&oh=dd89996c6b93b6dfc85fd6c9461b6300&oe=6059BF3E&_nc_sid=4efc9f',\n",
       " 'https://instagram.fcai19-1.fna.fbcdn.net/v/t51.2885-15/sh0.08/e35/s640x640/162508093_108211128022715_84303750121383474_n.jpg?tp=1&_nc_ht=instagram.fcai19-1.fna.fbcdn.net&_nc_cat=111&_nc_ohc=gkrv0bGvaZwAX98BtZU&ccb=7-4&oh=16b7e17f168a6b8bec25a317740ac789&oe=6080EA56&_nc_sid=4efc9f',\n",
       " 'https://instagram.fcai20-2.fna.fbcdn.net/v/t51.2885-15/sh0.08/e35/s640x640/162354689_477228510291327_5674298523746328464_n.jpg?tp=1&_nc_ht=instagram.fcai20-2.fna.fbcdn.net&_nc_cat=103&_nc_ohc=uPtDaagWEFsAX9hSutv&ccb=7-4&oh=cfc8fbbb757b5119e3fc432ed49a5b05&oe=60814036&_nc_sid=4efc9f',\n",
       " 'https://instagram.fcai19-1.fna.fbcdn.net/v/t51.2885-15/sh0.08/e35/c0.180.1440.1440a/s640x640/161833216_2534898760149163_453060237762998245_n.jpg?tp=1&_nc_ht=instagram.fcai19-1.fna.fbcdn.net&_nc_cat=107&_nc_ohc=WjDm24Wlo4kAX8crP3d&ccb=7-4&oh=662eb8ea0f5360173a2c4bed7b0c8b7f&oe=6081656A&_nc_sid=4efc9f',\n",
       " 'https://instagram.fcai19-1.fna.fbcdn.net/v/t51.2885-15/sh0.08/e35/s640x640/162181364_487841742599482_4360413460508564904_n.jpg?tp=1&_nc_ht=instagram.fcai19-1.fna.fbcdn.net&_nc_cat=110&_nc_ohc=UOyr7maCuHwAX9ako5z&ccb=7-4&oh=e852909e0d30e17ae4379170ebcd9b71&oe=6080B3A1&_nc_sid=4efc9f',\n",
       " 'https://instagram.fcai19-1.fna.fbcdn.net/v/t51.2885-15/sh0.08/e35/c0.90.720.720a/s640x640/163528151_298620505021510_7296321230177356034_n.jpg?tp=1&_nc_ht=instagram.fcai19-1.fna.fbcdn.net&_nc_cat=110&_nc_ohc=W3VP8jjZBigAX9ukf6f&ccb=7-4&oh=a5c6f166059060ce0c49e0dd5ee1d8d4&oe=6059C854&_nc_sid=4efc9f',\n",
       " 'https://instagram.fcai20-2.fna.fbcdn.net/v/t51.2885-15/sh0.08/e35/s640x640/162191143_470477671056204_7064789447758205236_n.jpg?tp=1&_nc_ht=instagram.fcai20-2.fna.fbcdn.net&_nc_cat=100&_nc_ohc=R6XDNc2SBakAX9BWjMj&ccb=7-4&oh=86e613efd554c15b00c760b18715c4df&oe=608182F9&_nc_sid=4efc9f',\n",
       " 'https://instagram.fcai20-2.fna.fbcdn.net/v/t51.2885-15/sh0.08/e35/s640x640/163187428_122227903195036_6636959981324552435_n.jpg?tp=1&_nc_ht=instagram.fcai20-2.fna.fbcdn.net&_nc_cat=104&_nc_ohc=-QDwcZOsi7oAX8osAoD&ccb=7-4&oh=d238c2249f42814a598a5d5ad4f6035c&oe=6059B12C&_nc_sid=4efc9f',\n",
       " 'https://instagram.fcai20-2.fna.fbcdn.net/v/t51.2885-15/sh0.08/e35/s640x640/162094246_438109124139616_2856913215742553903_n.jpg?tp=1&_nc_ht=instagram.fcai20-2.fna.fbcdn.net&_nc_cat=104&_nc_ohc=oxr--TUrzvMAX8P8Tzy&ccb=7-4&oh=7a8d5b89ba02d23728a9cfc85fbb3f33&oe=6082A738&_nc_sid=4efc9f',\n",
       " 'https://instagram.fcai19-1.fna.fbcdn.net/v/t51.2885-15/sh0.08/e35/c66.0.955.955a/s640x640/162461142_193026738939683_7009316216039670985_n.jpg?tp=1&_nc_ht=instagram.fcai19-1.fna.fbcdn.net&_nc_cat=111&_nc_ohc=q7XIc_ut4twAX_Qc31u&ccb=7-4&oh=37dddada57847e6b51d787768a89efcc&oe=60805160&_nc_sid=4efc9f',\n",
       " 'https://instagram.fcai19-1.fna.fbcdn.net/v/t51.2885-15/sh0.08/e35/c0.90.720.720a/s640x640/162623026_191238965831936_7913006339102015838_n.jpg?tp=1&_nc_ht=instagram.fcai19-1.fna.fbcdn.net&_nc_cat=108&_nc_ohc=DN6bpBNH5sMAX-s8wt6&ccb=7-4&oh=5347d771298b251253945e68871d2ae7&oe=6059820F&_nc_sid=4efc9f',\n",
       " 'https://instagram.fcai19-1.fna.fbcdn.net/v/t51.2885-15/e35/c64.0.506.506a/162104249_3572676486193472_1448872550200846109_n.jpg?tp=1&_nc_ht=instagram.fcai19-1.fna.fbcdn.net&_nc_cat=108&_nc_ohc=WpkWjMKjO-wAX8f4jRo&ccb=7-4&oh=2337c566d8fcc78be4dca8cfef1a430f&oe=607EE527&_nc_sid=4efc9f',\n",
       " 'https://instagram.fcai20-2.fna.fbcdn.net/v/t51.2885-15/sh0.08/e35/s640x640/163555437_3038574629762250_8992242715910718737_n.jpg?tp=1&_nc_ht=instagram.fcai20-2.fna.fbcdn.net&_nc_cat=106&_nc_ohc=QT8Rv8YrxCEAX8LqGiU&ccb=7-4&oh=38ca43aa44f94089ec9ac316518205d8&oe=607F9A99&_nc_sid=4efc9f',\n",
       " 'https://instagram.fcai20-2.fna.fbcdn.net/v/t51.2885-15/sh0.08/e35/c0.180.1440.1440a/s640x640/162556410_195800768623805_7924220630899853581_n.jpg?tp=1&_nc_ht=instagram.fcai20-2.fna.fbcdn.net&_nc_cat=105&_nc_ohc=xiHOfWS70_AAX_4_GSg&ccb=7-4&oh=82507a27aad359e92227a945c2d24f64&oe=608181A8&_nc_sid=4efc9f',\n",
       " 'https://instagram.fcai19-1.fna.fbcdn.net/v/t51.2885-15/sh0.08/e35/s640x640/162504950_186524929705532_7009181022210508536_n.jpg?tp=1&_nc_ht=instagram.fcai19-1.fna.fbcdn.net&_nc_cat=108&_nc_ohc=MCDkPkKHMjMAX_dne7W&ccb=7-4&oh=02eb3d2cefed844d3feddebbc918c573&oe=608057B4&_nc_sid=4efc9f',\n",
       " 'https://instagram.fcai19-1.fna.fbcdn.net/v/t51.2885-15/sh0.08/e35/c0.135.1080.1080a/s640x640/163239657_453285226089046_2586199921937783338_n.jpg?tp=1&_nc_ht=instagram.fcai19-1.fna.fbcdn.net&_nc_cat=110&_nc_ohc=I54oBF_cBpMAX8dj4YQ&ccb=7-4&oh=d350cd02e438c47d556b08268536b864&oe=608248E3&_nc_sid=4efc9f',\n",
       " 'https://www.instagram.com/static/images/web/mobile_nav_type_logo.png/735145cfe0a4.png',\n",
       " 'https://instagram.fkhi2-1.fna.fbcdn.net/v/t51.2885-19/44884218_345707102882519_2446069589734326272_n.jpg?_nc_ht=instagram.fkhi2-1.fna.fbcdn.net&_nc_ohc=7J4s2XQGnRUAX9_TzPs&ccb=7-4&oh=9ea9b6499dc90539906350e61925492d&oe=607F8A8F&_nc_sid=48a2a6&ig_cache_key=YW5vbnltb3VzX3Byb2ZpbGVfcGlj.2-ccb7-4']"
      ]
     },
     "execution_count": 11,
     "metadata": {},
     "output_type": "execute_result"
    }
   ],
   "source": [
    "driver.execute_script(\"window.scrollTo(0,10000);\")\n",
    "\n",
    "images = driver.find_elements_by_tag_name('img')\n",
    "images = [image.get_attribute('src') for image in images]\n",
    "\n",
    "images"
   ]
  },
  {
   "cell_type": "code",
   "execution_count": 12,
   "metadata": {},
   "outputs": [
    {
     "data": {
      "text/plain": [
       "'C:\\\\Users\\\\Yousef Sayed\\\\Desktop\\\\Coding\\\\Python\\\\WebScraping\\\\Instagram\\\\cats'"
      ]
     },
     "execution_count": 12,
     "metadata": {},
     "output_type": "execute_result"
    }
   ],
   "source": [
    "path = os.getcwd()\n",
    "path = os.path.join(path, key_word[1:] + \"s\")\n",
    "\n",
    "os.mkdir(path)\n",
    "path"
   ]
  },
  {
   "cell_type": "code",
   "execution_count": 13,
   "metadata": {},
   "outputs": [
    {
     "name": "stdout",
     "output_type": "stream",
     "text": [
      "100% [..............................................................................] 28350 / 28350"
     ]
    }
   ],
   "source": [
    "counter = 0\n",
    "for image in images:\n",
    "    save_as = os.path.join(path, key_word[1:] + str(counter) + '.jpg')\n",
    "    wget.download(image, save_as)\n",
    "    counter += 1"
   ]
  },
  {
   "cell_type": "code",
   "execution_count": null,
   "metadata": {},
   "outputs": [],
   "source": []
  }
 ],
 "metadata": {
  "kernelspec": {
   "display_name": "Python 3",
   "language": "python",
   "name": "python3"
  },
  "language_info": {
   "codemirror_mode": {
    "name": "ipython",
    "version": 3
   },
   "file_extension": ".py",
   "mimetype": "text/x-python",
   "name": "python",
   "nbconvert_exporter": "python",
   "pygments_lexer": "ipython3",
   "version": "3.8.5"
  }
 },
 "nbformat": 4,
 "nbformat_minor": 4
}
