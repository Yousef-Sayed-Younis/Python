{
 "cells": [
  {
   "cell_type": "code",
   "execution_count": 1,
   "metadata": {},
   "outputs": [],
   "source": [
    "from selenium import webdriver\n",
    "from selenium.webdriver.common.keys import Keys\n",
    "from selenium.webdriver.support import expected_conditions as EC\n",
    "from selenium.webdriver.common.by import By\n",
    "from selenium.webdriver.support.wait import WebDriverWait"
   ]
  },
  {
   "cell_type": "code",
   "execution_count": 16,
   "metadata": {},
   "outputs": [],
   "source": [
    "from bs4 import BeautifulSoup\n",
    "import requests"
   ]
  },
  {
   "cell_type": "code",
   "execution_count": 28,
   "metadata": {},
   "outputs": [],
   "source": [
    "driver = webdriver.Chrome('C:/Program Files (x86)/ChromeDriver/chromedriver.exe')\n",
    "driver.get('https://cnn.com/world')"
   ]
  },
  {
   "cell_type": "code",
   "execution_count": 29,
   "metadata": {},
   "outputs": [
    {
     "data": {
      "text/plain": [
       "['https://edition.cnn.com/2021/03/21/world/anti-asian-hate-crime-intl/index.html',\n",
       " 'https://edition.cnn.com/2021/03/19/africa/ethiopia-tigray-rape-investigation-cmd-intl/index.html']"
      ]
     },
     "execution_count": 29,
     "metadata": {},
     "output_type": "execute_result"
    }
   ],
   "source": [
    "headlines = driver.find_elements_by_css_selector(\"h3[class='cd__headline']\")\n",
    "\n",
    "hrefs = [href.find_element_by_css_selector('a') for href in headlines]\n",
    "\n",
    "hrefsC = []\n",
    "\n",
    "for href in hrefs:\n",
    "    if 'edition.cnn' in href.get_attribute('href'):\n",
    "        hrefsC.append(href.get_attribute('href'))        \n",
    "\n",
    "hrefsC[:2]"
   ]
  },
  {
   "cell_type": "code",
   "execution_count": 56,
   "metadata": {},
   "outputs": [
    {
     "name": "stdout",
     "output_type": "stream",
     "text": [
      "https://edition.cnn.com/2021/03/21/world/anti-asian-hate-crime-intl/index.html\n"
     ]
    },
    {
     "data": {
      "text/plain": [
       "'outpouring of grief and anger over the news that six Asian women were among those killed in the shootings at three Atlanta area massage parlors has drawn attention to the rise of anti-Asian violence in the US.\\nAnd it\\'s not just an American problem. From the UK to Australia, reports of anti-East and anti-Southeast Asian hate crimes have increased in Western countries as the pandemic took hold this past year. At least 11 people of East and Southeast Asian descent CNN spoke to described racist and xenophobic incidents, such as people moving away from them on the train, verbal abuse and even physical assault.\\nThe past year has seen some Western politicians repeatedly stress China\\'s connection to the Covid-19 outbreak, as well as raise the rhetoric against the Asian superpower. Within this environment, advocates say people of East Asian and Southeast Asian heritage have increasingly become a target for racism.\\nAsian American lawmakers implore Republicans to tone down rhetoric in wake of attacks\\nBut many European countries, including France, Germany and Belgium, do not collect demographic data on ethnicity for historical reasons, making it difficult to take an accurate measure of the scale of the problem.\\nHate crime statistics are recorded in the UK. Figures from the London Metropolitan Police show more than 200 incidents of hate crime against people of East Asian appearance happened between June and September 2020 -- a 96% increase compared to the same period a year ago.\\nPeng Wang, a lecturer at Southampton University in southern England, says he was physically assaulted by a group of four men while jogging near his home one cold afternoon.\\nThe men yelled racial slurs at the 37-year-old, including \"Chinese virus,\" he told CNN. They got out of the car after Wang yelled back at them, punching him in the face and kicking him to the ground. He suffered minor facial injuries and a nose bleed, but the trauma of the event made him worry about leaving his home, his future in the UK and the safety of his young son, he told CNN.\\nPeng Wang, a university professor, was attacked while out on a jog in late February in Southampton, southern England.\\n\"What they did was not civil, it should not happen in today\\'s society. They just treated me like an animal,\" he said. Police have since arrested two men on suspicion of racially aggravated assault, according to two statements sent to CNN.\\n\"When Donald Trump was the [US] President, and he said the \\'China virus\\' -- that was absolutely wrong,\" Wang added.\\nPolling done in June found that three-quarters of people of Chinese ethnicity in the UK had experienced being called a racial slur.\\nDuring an October debate on racism against the Chinese and East Asian community in Parliament, Scottish National Party lawmaker David Linden said some of his constituents \"described the attacks against them, with restaurants and take-outs being vandalized and boycotted and victims being punched, spat at and coughed on in the street and even verbally abused and blamed for the coronavirus pandemic.\"\\nOn the fringes\\nAs the pandemic made its way across Europe, activists in Spain and France began to notice a problem. Campaigns, such as #NoSoyUnVirus (#IAmNotAVirus), were created to raise awareness of the uptick in violence against Asians.\\nIn March 2020, an American man of Chinese descent, Thomas Siu, said he was violently assaulted in Spain\\'s capital, Madrid, after two men yelled racial slurs about the coronavirus at him.\\nSiu, who was a student at the time, said that between January and March last year he was verbally assaulted 10 times. This time, he was not going to take it anymore, and instead yelled back at his verbal abusers.\\nBut the men did not stop. They walked over and beat him unconscious, the 30-year-old told CNN, adding that he was hospitalized for a week. \"I\\'ve always known that there is racism here and that people don\\'t really acknowledge it,\" Siu told CNN.\\nCelebs were championing #StopAsianHate well before Atlanta shootings\\nSusana Ye, a 29-year-old Spanish journalist who made a documentary about the country\\'s Chinese diaspora in 2019, told CNN that violence against Asians in Spain has become normalized, and under-reported by the Spanish press.\\n\"For many it is not an important issue because many journalists do not live [in] or know members of the community,\" she said. \"They don\\'t have an anti-racist perspective and they don\\'t know about communities beyond their own.\"\\nShe says there is a problem of under reporting of hate crimes in Spain due to language barriers, fears among some of being deported, and a tendency for the older generation to keep silent about incidents.\\n\"I think that people pick violence, verbal violence and physical violence because they don\\'t expect us to react at all,\" she said. \"They are used to us keeping a low profile.\"\\n\\'We\\'re not at fault\\': Margaret Cho on rise of anti-Asian violence 02:57\\nSpanish comic book author Quan Zhou Wu, who lives in Madrid, agrees. \"The attack in Atlanta hasn\\'t been on the front pages of media in Spain, it is super, super minor news, we are invisible,\" she told CNN.\\nA 2019 report by the Spanish government shows that 2.9% of Asian nationals living in the country were victims of hate crimes. But while such offenses against Spanish nationals are recorded, the figures are not broken down by ethnicity. The government has yet to release 2020 figures.\\nIn France, campaigners say the pandemic has made racism even worse for its Asian community. \"Since last year the racism has become more overt. It\\'s people saying they don\\'t like Asians, or they don\\'t like China,\" said Sun-Lay Tan, a spokesperson for Security for All, an organization that represents more than 40 Asian associations in France.\\n\\'Make it better for future generations\\'\\nThe campaign group estimates that in 2019, there was one hate crime incident against an Asian every two days in the Paris area alone. While they do not have data for 2020, Tan spoke of a number of anecdotes, including an account of someone having their shoulder dislocated the night after French President Emmanuel Macron announced a new lockdown in October.\\nHe said his first experience of xenophobia in France was last February, when a man switched places on the subway train after Tan sat down.\\n\"Our parents dealt with racism but they accepted it because they wanted to integrate into the country,\" he told CNN. \"We are the second generation of immigrants in France, our responsibility is to speak out\" and make France \"better for the next generation,\" he said.\\nBerlin-based filmmaker Popo Fan, born in China\\'s Jiangsu Province, said things were bad at the start of the pandemic, when he found himself too afraid to go outside or use public transportation.\\n\\'No one was listening.\\' Asian business owners react to Atlanta shootings\\n\"In the beginning of the pandemic I was spat on, I was sworn at on the metro line in Berlin,\" Fan said. \"But I have a complicated feeling about it because the person that attacked me was a migrant himself. He was drunk and probably from a lower socio-economic background ... I feel like German society hasn\\'t given him enough resources or education about racial diversity and public health. He doesn\\'t have access to that information.\"\\nHe says blame lies with the German authorities, who \"don\\'t seem to care enough about racial issues.\"\\nHe said he was repeatedly targeted on the streets even before the outbreak. \"I had one person screaming at me \"go back to China.\" The police told me that they couldn\\'t do anything,\" Fan said.\\nThis is not only a European problem. A March report by Australian think tank, the Lowy Institute, found that more than one third of Chinese-Australians feel they have been treated differently or less favorably due to their heritage in the past year. And 18% say they have been physically threatened or attacked due to their Chinese heritage.\\nBeing conflated\\nBack in the UK, Singaporean student Kay Leong told CNN that a person selling roses on the street started shouting \"coronavirus, coronavirus\" at her after she refused to buy flowers.\\n\\'I\\'m not from China but I\\'d imagine all Asians get conflated when it comes to this kind of racism,\" she told CNN. \"I\\'ve also noticed more leering. But I will say, this kind of racism or intimidation isn\\'t new to me, I\\'ve faced it since I came to London in 2016 for my undergrad [studies].\"\\nKate Ng, a 28-year-old Malaysian-Chinese journalist at British newspaper The Independent, told CNN that while the attacks in the US appear to be a lot more pervasive, the incidents reported in the UK have spread a chill among Southeast Asians.\\n\"I want to go out by myself when there are more people around. But I ask myself: \\'Is it more likely I will be verbally abused or attacked?\\' That fear is very palpable,\" she said'"
      ]
     },
     "execution_count": 56,
     "metadata": {},
     "output_type": "execute_result"
    }
   ],
   "source": [
    "# print(hrefsC[])\n",
    "link = hrefsC[0]\n",
    "print(link)\n",
    "\n",
    "driver.get(link)\n",
    "container = driver.find_element_by_class_name('l-container')\n",
    "\n",
    "# driver.close()\n",
    "# container = [txt.text for txt in container]\n",
    "\n",
    "\n",
    "container.text[390:9189]\n",
    "# print(title)\n",
    "# print(container)\n",
    "\n",
    "    "
   ]
  },
  {
   "cell_type": "code",
   "execution_count": null,
   "metadata": {},
   "outputs": [],
   "source": []
  }
 ],
 "metadata": {
  "kernelspec": {
   "display_name": "Python 3",
   "language": "python",
   "name": "python3"
  },
  "language_info": {
   "codemirror_mode": {
    "name": "ipython",
    "version": 3
   },
   "file_extension": ".py",
   "mimetype": "text/x-python",
   "name": "python",
   "nbconvert_exporter": "python",
   "pygments_lexer": "ipython3",
   "version": "3.8.5"
  }
 },
 "nbformat": 4,
 "nbformat_minor": 4
}
